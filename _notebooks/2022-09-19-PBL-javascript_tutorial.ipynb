{
 "cells": [
  {
   "cell_type": "markdown",
   "metadata": {},
   "source": [
    "# JavaScript Tutorial\n",
    "> Quick launch into Variables, Functions, Arrays, IJavaScript HTML, using Jupyter Notebooks\n",
    "\n",
    "- layout: default\n",
    "- badges: false\n",
    "- permalink: /techtalk/javascript\n",
    "- image: /images/javascript.png\n",
    "- categories: [1.A, 3.B, C4.0]\n",
    "- type: pbl\n",
    "- week: 5"
   ]
  },
  {
   "cell_type": "markdown",
   "metadata": {},
   "source": [
    "{% include nav_frontend.html %}"
   ]
  },
  {
   "cell_type": "markdown",
   "metadata": {},
   "source": [
    "## JavaScript references\n",
    "> JavaScript is the most important language you need to learn as a frontend developer.\n",
    "\n",
    "- [W3Schools](https://www.w3schools.com/js/)  - reference\n"
   ]
  },
  {
   "cell_type": "markdown",
   "metadata": {},
   "source": [
    "### alert output\n",
    "Output to alert dialog box using the classic programming introduction message: \"Hello, World!\"    \n",
    "- %%js is required to allow cell to be JavaScript enabled\n",
    "- The command or function is <mark>console.log()</mark>\n",
    "- \"Hello, World\" is a String literal. This is the referred to as <mark>Static text</mark>, as it does not change.\n",
    "- \"Hello, World\" is a parameter to the alert command provided by JavaScript.\n",
    "- The alert <mark>command outputs the parameter to a dialog box</mark>, so you can see it in this Jupyter notebook.\n",
    "- Note, in a Web Application, alert is often used for debugging."
   ]
  },
  {
   "cell_type": "code",
   "execution_count": 1,
   "metadata": {},
   "outputs": [
    {
     "data": {
      "application/javascript": [
       "console.log(\"Hellow, World!\");\n",
       "element.text(\"Hello, World!\");\n",
       "//alert(\"Hello, World!\");\n"
      ],
      "text/plain": [
       "<IPython.core.display.Javascript object>"
      ]
     },
     "metadata": {},
     "output_type": "display_data"
    }
   ],
   "source": [
    "%%js\n",
    "console.log(\"Hellow, World!\");\n",
    "element.text(\"Hello, World!\");\n",
    "//alert(\"Hello, World!\");"
   ]
  },
  {
   "cell_type": "markdown",
   "metadata": {},
   "source": [
    "### multiple outputs showing use of variable\n",
    "This second example is a \"sequence of code\", two or more lines of code forms a sequence.  This example defines a variable, then displays it in multiple ways.\n",
    "- The variable \"var msg =\" is used to capture the data\n",
    "- The alert(msg) works the same as previous, but uses msg as parameter\n",
    "- The console.log(msg) outputs to console, be sure to Inspect\n",
    "- The element.text() is part of Jupyter Notebooks and displays as output on page."
   ]
  },
  {
   "cell_type": "code",
   "execution_count": 2,
   "metadata": {
    "vscode": {
     "languageId": "javascript"
    }
   },
   "outputs": [
    {
     "data": {
      "application/javascript": [
       "var msg = \"Hello, World!\";\n",
       "console.log(msg);  //right click browser select Inspect, then select Console to view\n",
       "element.text(msg);\n",
       "//alert(msg);\n"
      ],
      "text/plain": [
       "<IPython.core.display.Javascript object>"
      ]
     },
     "metadata": {},
     "output_type": "display_data"
    }
   ],
   "source": [
    "%%js\n",
    "var msg = \"Hello, World!\";\n",
    "console.log(msg);  //right click browser select Inspect, then select Console to view\n",
    "element.text(msg);\n",
    "//alert(msg);\n"
   ]
  },
  {
   "cell_type": "markdown",
   "metadata": {},
   "source": [
    "### output showing use of a function\n",
    "This example passes the defined variable \"msg\" to the newly defined \"function logIt(output)\".\n",
    "- There are multiple steps in this code..\n",
    "    - The \"definition of the function\": \"function logIt(output) {}\" and everything between curly braces is the definitions of the function. Passing a parameter is required when you call this function.\n",
    "    - The \"call to the function:\"logIt(msg)\" is the call to the function, this actually runs the function.  The variable \"msg\" is used a parameter when calling the logIt function.\n",
    "- Showing reuse of function...\n",
    "    - There are two calls to the logIt function\n",
    "    - This is called Prodedural Abstraction, a term that means reusing the same code"
   ]
  },
  {
   "cell_type": "code",
   "execution_count": 3,
   "metadata": {},
   "outputs": [
    {
     "data": {
      "application/javascript": [
       "// Function defintion\n",
       "function logIt(output) {\n",
       "    console.log(output);  \n",
       "    element.text(output);  // does this need repair?\n",
       "    //alert(output);\n",
       "}\n",
       "\n",
       "// First sequence\n",
       "var msg = \"Hello, World!\";\n",
       "logIt(msg);\n",
       "\n",
       "// Second sequence\n",
       "var msg = \"Hello, Students!\" // replaces content of variable\n",
       "var classOf = \"Welcome CS class of 2023-2024\"\n",
       "logIt(msg + \" \" + classOf); // concatenation of strings within parameter\n"
      ],
      "text/plain": [
       "<IPython.core.display.Javascript object>"
      ]
     },
     "metadata": {},
     "output_type": "display_data"
    }
   ],
   "source": [
    "%%js\n",
    "// Function defintion\n",
    "function logIt(output) {\n",
    "    console.log(output);  \n",
    "    element.text(output);  // does this need repair?\n",
    "    //alert(output);\n",
    "}\n",
    "\n",
    "// First sequence\n",
    "var msg = \"Hello, World!\";\n",
    "logIt(msg);\n",
    "\n",
    "// Second sequence\n",
    "var msg = \"Hello, Students!\" // replaces content of variable\n",
    "var classOf = \"Welcome CS class of 2023-2024\"\n",
    "logIt(msg + \" \" + classOf); // concatenation of strings within parameter"
   ]
  },
  {
   "cell_type": "code",
   "execution_count": 4,
   "metadata": {
    "vscode": {
     "languageId": "javascript"
    }
   },
   "outputs": [
    {
     "data": {
      "application/javascript": [
       "// Function defintion\n",
       "function logIt(output) {\n",
       "    console.log(output);  \n",
       "    element.append(output + \"<br>\");  // add HTML line break\n",
       "    //alert(output);\n",
       "}\n",
       "\n",
       "// First sequence\n",
       "var msg = \"Hello, World!\";\n",
       "logIt(msg);\n",
       "\n",
       "// Second sequence\n",
       "var msg = \"Hello, Students!\" // replaces content of variable\n",
       "var classOf = \"Welcome CS class of 2023-2024\"\n",
       "logIt(msg + \" \" + classOf); // concatenation of strings within parameter\n",
       "\n",
       "element.html();\n"
      ],
      "text/plain": [
       "<IPython.core.display.Javascript object>"
      ]
     },
     "metadata": {},
     "output_type": "display_data"
    }
   ],
   "source": [
    "%%js\n",
    "// Function defintion\n",
    "function logIt(output) {\n",
    "    console.log(output);  \n",
    "    element.append(output + \"<br>\");  // add HTML line break\n",
    "    //alert(output);\n",
    "}\n",
    "\n",
    "// First sequence\n",
    "var msg = \"Hello, World!\";\n",
    "logIt(msg);\n",
    "\n",
    "// Second sequence\n",
    "var msg = \"Hello, Students!\" // replaces content of variable\n",
    "var classOf = \"Welcome CS class of 2023-2024\"\n",
    "logIt(msg + \" \" + classOf); // concatenation of strings within parameter\n",
    "\n",
    "element.html();"
   ]
  },
  {
   "cell_type": "markdown",
   "metadata": {},
   "source": [
    "### Loosely typed language\n",
    "\"JavaScript is a loosely typed language\", meaning you don't have to specify what type of information will be stored in a variable in advance.  \n",
    "    - To define a variable you prefix the name with var or const.   The variable type is determined by JavaScript at runtime.\n",
    "    - Python and many interpretive languages are loosely typed like JavaScript.  This is considered programmer friendly.  \n",
    "    - Java which is a compiled language is strongly typed, thus you will see terms like String, Integer, Double, and Object in the source code. \n",
    "    - In JavaScript, the \"typeof\" keyword returns the type.  Become familiar with type as it is valuable in conversation and knowing type help you understand built in operations."
   ]
  },
  {
   "cell_type": "code",
   "execution_count": 5,
   "metadata": {
    "vscode": {
     "languageId": "javascript"
    }
   },
   "outputs": [
    {
     "data": {
      "application/javascript": [
       "// Function to add typeof to output\n",
       "function getType(output) {\n",
       "    return typeof output + \": \" + output;\n",
       "}\n",
       "\n",
       "// Function defintion\n",
       "function logIt(output) {\n",
       "    console.log(getType(output));\n",
       "    element.append(getType(output) + \"<br>\");  \n",
       "    //alert(getType(output));\n",
       "}\n",
       "\n",
       "// Common Types\n",
       "element.append(\"Common Types <br>\");\n",
       "logIt(\"hello\"); // String\n",
       "logIt(2024);    // Number\n",
       "logIt(true);    // Boolean\n",
       "element.append(\"<br>\");\n",
       "\n",
       "// Simple Object often called a array or list\n",
       "element.append(\"Object Type, array <br>\");\n",
       "var scores = [\n",
       "    90,\n",
       "    80, \n",
       "    100\n",
       "];  \n",
       "logIt(scores);\n",
       "element.append(\"<br>\");\n",
       "\n",
       "// Complex Object, often called hash, map, hashmap, or dictionary\n",
       "element.append(\"Object Type, hash or dictionary <br>\");\n",
       "var person = { // key:value pairs seperated by comma\n",
       "    \"name\": \"Mr M\", \n",
       "    \"role\": \"Teacher\"\n",
       "}; \n",
       "logIt(person);\n",
       "logIt(JSON.stringify(person));  //method used to convert this object into readable format\n",
       "element.html();\n"
      ],
      "text/plain": [
       "<IPython.core.display.Javascript object>"
      ]
     },
     "metadata": {},
     "output_type": "display_data"
    }
   ],
   "source": [
    "%%js\n",
    "// Function to add typeof to output\n",
    "function getType(output) {\n",
    "    return typeof output + \": \" + output;\n",
    "}\n",
    "\n",
    "// Function defintion\n",
    "function logIt(output) {\n",
    "    console.log(getType(output));\n",
    "    element.append(getType(output) + \"<br>\");  \n",
    "    //alert(getType(output));\n",
    "}\n",
    "\n",
    "// Common Types\n",
    "element.append(\"Common Types <br>\");\n",
    "logIt(\"hello\"); // String\n",
    "logIt(2024);    // Number\n",
    "logIt(true);    // Boolean\n",
    "element.append(\"<br>\");\n",
    "\n",
    "// Simple Object often called a array or list\n",
    "element.append(\"Object Type, array <br>\");\n",
    "var scores = [\n",
    "    90,\n",
    "    80, \n",
    "    100\n",
    "];  \n",
    "logIt(scores);\n",
    "element.append(\"<br>\");\n",
    "\n",
    "// Complex Object, often called hash, map, hashmap, or dictionary\n",
    "element.append(\"Object Type, hash or dictionary <br>\");\n",
    "var person = { // key:value pairs seperated by comma\n",
    "    \"name\": \"Mr M\", \n",
    "    \"role\": \"Teacher\"\n",
    "}; \n",
    "logIt(person);\n",
    "logIt(JSON.stringify(person));  //method used to convert this object into readable format\n",
    "element.html();"
   ]
  },
  {
   "cell_type": "markdown",
   "metadata": {},
   "source": [
    "### Build a Person object and JSON\n",
    "JavaScript and other languages have special properties and syntax to store and represent data.  In fact, a class in JavaScript is a special function.\n",
    "\n",
    "- <mark>Definition of class allows for a collection of data</mark>, the \"class Person\" allows programmer to retain name, github id, and class of designation.\n",
    "- <mark>Instance of a class</mark>, the \"const teacher = new Person(\"Mr M\", \"jm1021\", 1977)\" makes a variable \"teacher\" which is an object representation of \"class Person\".\n",
    "- <mark>Setting additional properties and Getting properties</mark> After creating teacher and student objects, observe that properties can be changed/muted or extracted/accessed."
   ]
  },
  {
   "cell_type": "code",
   "execution_count": 6,
   "metadata": {},
   "outputs": [
    {
     "data": {
      "application/javascript": [
       "class Person {\n",
       "  constructor(name, ghID, classOf) {\n",
       "    this.name = name;\n",
       "    this.ghID = ghID;\n",
       "    this.classOf = classOf;\n",
       "    this.role = \"Student\";\n",
       "  }\n",
       "\n",
       "  setRole(role) {\n",
       "    this.role = role;\n",
       "  }\n",
       "  \n",
       "  getJSON() {\n",
       "    const obj = {type: typeof this, name: this.name, ghID: this.ghID, classOf: this.classOf, role: this.role};\n",
       "    const json = JSON.stringify(obj);\n",
       "    return json;\n",
       "  }\n",
       "    \n",
       "  logIt() {\n",
       "    console.log(this.getJSON());\n",
       "    element.append(this.getJSON() + \"<br>\");  \n",
       "    //alert(this.getJSON());\n",
       "  }\n",
       "}\n",
       "\n",
       "// make a new Person Object and assign to variable teacher\n",
       "const teacher = new Person(\"Mr M\", \"jm1021\", 1977); // object type is easy to work with in JavaScript\n",
       "// make a new Person Object and assign to variable student\n",
       "const student = new Person(\"Jane Doe\", \"jane\", 2007); // object type is easy to work with in JavaScript\n",
       "\n",
       "// output of Object and JSON/string associated with Teacher\n",
       "teacher.setRole(\"Teacher\"); // set the role\n",
       "teacher.logIt();  // log\n",
       "\n",
       "// output of Object and JSON/string associated with Teacher\n",
       "student.logIt();\n"
      ],
      "text/plain": [
       "<IPython.core.display.Javascript object>"
      ]
     },
     "metadata": {},
     "output_type": "display_data"
    }
   ],
   "source": [
    "%%js\n",
    "class Person {\n",
    "  constructor(name, ghID, classOf) {\n",
    "    this.name = name;\n",
    "    this.ghID = ghID;\n",
    "    this.classOf = classOf;\n",
    "    this.role = \"Student\";\n",
    "  }\n",
    "\n",
    "  setRole(role) {\n",
    "    this.role = role;\n",
    "  }\n",
    "  \n",
    "  getJSON() {\n",
    "    const obj = {type: typeof this, name: this.name, ghID: this.ghID, classOf: this.classOf, role: this.role};\n",
    "    const json = JSON.stringify(obj);\n",
    "    return json;\n",
    "  }\n",
    "    \n",
    "  logIt() {\n",
    "    console.log(this.getJSON());\n",
    "    element.append(this.getJSON() + \"<br>\");  \n",
    "    //alert(this.getJSON());\n",
    "  }\n",
    "}\n",
    "\n",
    "// make a new Person Object and assign to variable teacher\n",
    "const teacher = new Person(\"Mr M\", \"jm1021\", 1977); // object type is easy to work with in JavaScript\n",
    "// make a new Person Object and assign to variable student\n",
    "const student = new Person(\"Jane Doe\", \"jane\", 2007); // object type is easy to work with in JavaScript\n",
    "\n",
    "// output of Object and JSON/string associated with Teacher\n",
    "teacher.setRole(\"Teacher\"); // set the role\n",
    "teacher.logIt();  // log\n",
    "\n",
    "// output of Object and JSON/string associated with Teacher\n",
    "student.logIt();\n"
   ]
  },
  {
   "cell_type": "markdown",
   "metadata": {},
   "source": [
    "### Build a Classroom Array/List of Persons and JSON\n",
    "Many key elements are shown again.  New elements include...\n",
    "- <mark>Building an Array</mark>, \"var students\" is an array of many persons\n",
    "- Building a Classroom, this show <mark>forEach iteration</mark> through an array and <mark>.push adding</mark> to an array.  These are key concepts in all programming languages."
   ]
  },
  {
   "cell_type": "code",
   "execution_count": 9,
   "metadata": {
    "vscode": {
     "languageId": "javascript"
    }
   },
   "outputs": [
    {
     "data": {
      "application/javascript": [
       "class Person {\n",
       "  constructor(name, ghID, classOf) {\n",
       "    this.name = name;\n",
       "    this.ghID = ghID;\n",
       "    this.classOf = classOf;\n",
       "    this.role = \"Student\";\n",
       "  }\n",
       "\n",
       "  setRole(role) {\n",
       "    this.role = role;\n",
       "  }\n",
       "  \n",
       "  getJSON() {\n",
       "    const obj = {type: typeof this, name: this.name, ghID: this.ghID, classOf: this.classOf, role: this.role};\n",
       "    const json = JSON.stringify(obj);\n",
       "    return json;\n",
       "  }\n",
       "    \n",
       "  logIt() {\n",
       "    console.log(this.getJSON());\n",
       "    element.append(this.getJSON() + \"<br>\");  \n",
       "    //alert(this.getJSON());\n",
       "  }\n",
       "}\n",
       "\n",
       "// define a classroom with parameters teacher and students\n",
       "class Classroom {\n",
       "  constructor(teacher, students) {\n",
       "    // start Classroom with Teacher\n",
       "    teacher.setRole(\"Teacher\");\n",
       "    this.teacher = teacher;\n",
       "    this.classroom = [teacher];\n",
       "    // add each Student to Classroom\n",
       "    this.students = students;\n",
       "    this.students.forEach(student => { this.classroom.push(student); });\n",
       "    // build json for access to entire classroom\n",
       "    this.json = [];\n",
       "    this.classroom.forEach(person => this.json.push(person.getJSON()));\n",
       "  }\n",
       "      \n",
       "  logIt() {\n",
       "    console.log(this);\n",
       "    console.log(this.json);\n",
       "    element.append(this + \"<br>\");  \n",
       "    element.append(this.json + \"<br>\");  \n",
       "    //alert(this.json);\n",
       "  }\n",
       "}\n",
       "\n",
       "// define a Teacher\n",
       "const teacher = new Person(\"Mr M\", \"jm1021\", 1977); // object type is easy to work with in JavaScript\n",
       "\n",
       "// define a student Array of Person(s)\n",
       "const students = [ \n",
       "    new Person(\"Anthony\", \"tonyhieu\", 2022),\n",
       "    new Person(\"Bria\", \"B-G101\", 2023),\n",
       "    new Person(\"Allie\", \"xiaoa0\", 2023),\n",
       "    new Person(\"Tigran\", \"Tigran7\", 2023),\n",
       "    new Person(\"Rebecca\", \"Rebecca-123\", 2023),\n",
       "    new Person(\"Vidhi\", \"VidhiKulkarni\", 2024)\n",
       "];\n",
       "\n",
       "// make a CompSci classroom from formerly defined teacher and student Person\n",
       "const compsci = new Classroom(teacher, students);\n",
       "\n",
       "// output of Objects and JSON in CompSci classroom\n",
       "compsci.logIt();\n"
      ],
      "text/plain": [
       "<IPython.core.display.Javascript object>"
      ]
     },
     "metadata": {},
     "output_type": "display_data"
    }
   ],
   "source": [
    "%%js\n",
    "class Person {\n",
    "  constructor(name, ghID, classOf) {\n",
    "    this.name = name;\n",
    "    this.ghID = ghID;\n",
    "    this.classOf = classOf;\n",
    "    this.role = \"Student\";\n",
    "  }\n",
    "\n",
    "  setRole(role) {\n",
    "    this.role = role;\n",
    "  }\n",
    "  \n",
    "  getJSON() {\n",
    "    const obj = {type: typeof this, name: this.name, ghID: this.ghID, classOf: this.classOf, role: this.role};\n",
    "    const json = JSON.stringify(obj);\n",
    "    return json;\n",
    "  }\n",
    "    \n",
    "  logIt() {\n",
    "    console.log(this.getJSON());\n",
    "    element.append(this.getJSON() + \"<br>\");  \n",
    "    //alert(this.getJSON());\n",
    "  }\n",
    "}\n",
    "\n",
    "// define a classroom with parameters teacher and students\n",
    "class Classroom {\n",
    "  constructor(teacher, students) {\n",
    "    // start Classroom with Teacher\n",
    "    teacher.setRole(\"Teacher\");\n",
    "    this.teacher = teacher;\n",
    "    this.classroom = [teacher];\n",
    "    // add each Student to Classroom\n",
    "    this.students = students;\n",
    "    this.students.forEach(student => { this.classroom.push(student); });\n",
    "    // build json for access to entire classroom\n",
    "    this.json = [];\n",
    "    this.classroom.forEach(person => this.json.push(person.getJSON()));\n",
    "  }\n",
    "      \n",
    "  logIt() {\n",
    "    console.log(this);\n",
    "    console.log(this.json);\n",
    "    element.append(this + \"<br>\");  \n",
    "    element.append(this.json + \"<br>\");  \n",
    "    //alert(this.json);\n",
    "  }\n",
    "}\n",
    "\n",
    "// define a Teacher\n",
    "const teacher = new Person(\"Mr M\", \"jm1021\", 1977); // object type is easy to work with in JavaScript\n",
    "\n",
    "// define a student Array of Person(s)\n",
    "const students = [ \n",
    "    new Person(\"Anthony\", \"tonyhieu\", 2022),\n",
    "    new Person(\"Bria\", \"B-G101\", 2023),\n",
    "    new Person(\"Allie\", \"xiaoa0\", 2023),\n",
    "    new Person(\"Tigran\", \"Tigran7\", 2023),\n",
    "    new Person(\"Rebecca\", \"Rebecca-123\", 2023),\n",
    "    new Person(\"Vidhi\", \"VidhiKulkarni\", 2024)\n",
    "];\n",
    "\n",
    "// make a CompSci classroom from formerly defined teacher and student Person\n",
    "const compsci = new Classroom(teacher, students);\n",
    "\n",
    "// output of Objects and JSON in CompSci classroom\n",
    "compsci.logIt();"
   ]
  },
  {
   "cell_type": "markdown",
   "metadata": {},
   "source": [
    "### IJavaScript and Table formatting using toHTML method\n",
    "This example builds a <mark>Classroom method _toHTML</mark> which is passed to the IJavaScript interpreter $$.html which renders output similarly to a real website.  \n",
    "- JavaScript in the _toHTML method is broken into three parts...\n",
    "    - Style part is building CSS inline formatting\n",
    "    - Body part is constructing the Table Rows (tr), Table Headings (th), and Table Data (td).  The table data is obtained from a Classroom object.  The JavaScript for loop allows the construction of a new row of data for each person object in the Array.\n",
    "    - Return part creates the HTML fragment for rendering\n",
    "- The last line in the example <mark>$$.html is IJavaScript HTML interpreter</mark> and by passing the parameter of the _toHTML method it obtains HTML to render"
   ]
  },
  {
   "cell_type": "code",
   "execution_count": 8,
   "metadata": {
    "vscode": {
     "languageId": "javascript"
    }
   },
   "outputs": [
    {
     "ename": "SyntaxError",
     "evalue": "invalid syntax (1956228737.py, line 1)",
     "output_type": "error",
     "traceback": [
      "\u001b[0;36m  Input \u001b[0;32mIn [8]\u001b[0;36m\u001b[0m\n\u001b[0;31m    // define an HTML conversion \"method\" associated with Classroom\u001b[0m\n\u001b[0m    ^\u001b[0m\n\u001b[0;31mSyntaxError\u001b[0m\u001b[0;31m:\u001b[0m invalid syntax\n"
     ]
    }
   ],
   "source": [
    "// define an HTML conversion \"method\" associated with Classroom\n",
    "Classroom.prototype._toHtml = function() {\n",
    "  // HTML Style is build using inline structure\n",
    "  var style = (\n",
    "    \"display:inline-block;\" +\n",
    "    \"border: 2px solid grey;\" +\n",
    "    \"box-shadow: 0.8em 0.4em 0.4em grey;\"\n",
    "  );\n",
    "\n",
    "  // HTML Body of Table is build as a series of concatenations (+=)\n",
    "  var body = \"\";\n",
    "  // Heading for Array Columns\n",
    "  body += \"<tr>\";\n",
    "  body += \"<th><mark>\" + \"Name\" + \"</mark></th>\";\n",
    "  body += \"<th><mark>\" + \"GitHub ID\" + \"</mark></th>\";\n",
    "  body += \"<th><mark>\" + \"Class Of\" + \"</mark></th>\";\n",
    "  body += \"<th><mark>\" + \"Role\" + \"</mark></th>\";\n",
    "  body += \"</tr>\";\n",
    "  // Data of Array, iterate through each row of compsci.classroom \n",
    "  for (var row of compsci.classroom) {\n",
    "    // tr for each row, a new line\n",
    "    body += \"<tr>\";\n",
    "    // td for each column of data\n",
    "    body += \"<td>\" + row.name + \"</td>\";\n",
    "    body += \"<td>\" + row.ghID + \"</td>\";\n",
    "    body += \"<td>\" + row.classOf + \"</td>\";\n",
    "    body += \"<td>\" + row.role + \"</td>\";\n",
    "    // tr to end line\n",
    "    body += \"<tr>\";\n",
    "  }\n",
    "\n",
    "   // Build and HTML fragment of div, table, table body\n",
    "  return (\n",
    "    \"<div style='\" + style + \"'>\" +\n",
    "      \"<table>\" +\n",
    "        body +\n",
    "      \"</table>\" +\n",
    "    \"</div>\"\n",
    "  );\n",
    "\n",
    "};\n",
    "\n",
    "// IJavaScript HTML processor receive parameter of defined HTML fragment\n",
    "$$.html(compsci._toHtml());"
   ]
  }
 ],
 "metadata": {
  "kernelspec": {
   "display_name": "Python 3 (ipykernel)",
   "language": "python",
   "name": "python3"
  },
  "language_info": {
   "codemirror_mode": {
    "name": "ipython",
    "version": 3
   },
   "file_extension": ".py",
   "mimetype": "text/x-python",
   "name": "python",
   "nbconvert_exporter": "python",
   "pygments_lexer": "ipython3",
   "version": "3.9.12"
  }
 },
 "nbformat": 4,
 "nbformat_minor": 2
}
